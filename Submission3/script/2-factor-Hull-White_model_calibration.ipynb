{
 "cells": [
  {
   "cell_type": "markdown",
   "metadata": {},
   "source": [
    "# Two Factor Hull White Model Calibration\n",
    "In this section, we will provide a numerical example of calibration of 2-factor Hull-White model. We will fit the model to historical data of swaptions volatility and obtain the five parameters $\\alpha, \\beta, \\sigma_{1}, \\sigma_{2}, \\rho$"
   ]
  },
  {
   "cell_type": "code",
   "execution_count": 1,
   "metadata": {},
   "outputs": [],
   "source": [
    "import QuantLib as ql\n",
    "from collections import namedtuple\n",
    "import math"
   ]
  },
  {
   "cell_type": "code",
   "execution_count": 2,
   "metadata": {},
   "outputs": [],
   "source": [
    "today = ql.Date(15, ql.February, 2020);\n",
    "settlement= ql.Date(19, ql.February, 2020);\n",
    "ql.Settings.instance().evaluationDate = today;\n",
    "term_structure = ql.YieldTermStructureHandle(\n",
    "    ql.FlatForward(settlement,0.04875825,ql.Actual365Fixed())\n",
    "    )\n",
    "index = ql.Euribor1Y(term_structure)"
   ]
  },
  {
   "cell_type": "markdown",
   "metadata": {},
   "source": [
    "We are going to calibrate to the swaption volatilities as shown below. "
   ]
  },
  {
   "cell_type": "code",
   "execution_count": 3,
   "metadata": {},
   "outputs": [],
   "source": [
    "CalibrationData = namedtuple(\"CalibrationData\", \n",
    "                             \"start, length, volatility\")\n",
    "data = [CalibrationData(1, 5, 0.1148),\n",
    "        CalibrationData(2, 4, 0.1108),\n",
    "        CalibrationData(3, 3, 0.1070),\n",
    "        CalibrationData(4, 2, 0.1021),\n",
    "        CalibrationData(5, 1, 0.1000 )]"
   ]
  },
  {
   "cell_type": "code",
   "execution_count": 4,
   "metadata": {},
   "outputs": [],
   "source": [
    "# <!-- collapse=True -->\n",
    "def create_swaption_helpers(data, index, term_structure, engine):\n",
    "    swaptions = []\n",
    "    fixed_leg_tenor = ql.Period(1, ql.Years)\n",
    "    fixed_leg_daycounter = ql.Actual360()\n",
    "    floating_leg_daycounter = ql.Actual360()\n",
    "    for d in data:\n",
    "        vol_handle = ql.QuoteHandle(ql.SimpleQuote(d.volatility))\n",
    "        helper = ql.SwaptionHelper(ql.Period(d.start, ql.Years),\n",
    "                                   ql.Period(d.length, ql.Years),\n",
    "                                   vol_handle,\n",
    "                                   index,\n",
    "                                   fixed_leg_tenor,\n",
    "                                   fixed_leg_daycounter,\n",
    "                                   floating_leg_daycounter,\n",
    "                                   term_structure\n",
    "                                   )\n",
    "        helper.setPricingEngine(engine)\n",
    "        swaptions.append(helper)\n",
    "    return swaptions    \n",
    "\n",
    "def calibration_report(swaptions, data):\n",
    "    print(\"-\"*82)\n",
    "    print(\"%15s %15s %15s %15s %15s\" % \\\n",
    "    (\"Model Price\", \"Market Price\", \"Implied Vol\", \"Market Vol\", \"Rel Error\"))\n",
    "    print(\"-\"*82)\n",
    "    cum_err = 0.0\n",
    "    for i, s in enumerate(swaptions):\n",
    "        model_price = s.modelValue()\n",
    "        market_vol = data[i].volatility\n",
    "        black_price = s.blackPrice(market_vol)\n",
    "        rel_error = model_price/black_price - 1.0\n",
    "        implied_vol = s.impliedVolatility(model_price,\n",
    "                                          1e-5, 50, 0.0, 0.50)\n",
    "        rel_error2 = implied_vol/market_vol-1.0\n",
    "        cum_err += rel_error2*rel_error2\n",
    "        \n",
    "        print(\"%15.5f %15.5f %15.5f %15.5f %15.5f\" % \\\n",
    "        (model_price, black_price, implied_vol, market_vol, rel_error))\n",
    "    print(\"-\"*82)\n",
    "    print(\"Cumulative Error : %15.5f\" % math.sqrt(cum_err))"
   ]
  },
  {
   "cell_type": "markdown",
   "metadata": {},
   "source": [
    "## G2++ Model\n",
    "\n",
    "By \\cite{BA1} we know that G2++ model is equivalent to Two-Factor Hull-White model. Since Quantlib only support G2++ at the moment, we will calibrate G2++ model first to get its 5 parameters. After that we can map them uniquely to the set of Hull-White parameters.\n",
    "\n",
    "G2++ model is given by:\n",
    "\\begin{equation}\n",
    "dr_t = \\varphi(t) + x_t + y_t\n",
    "\\end{equation}\n",
    "    \n",
    "where $ x_t $ and $ y_t $ are defined by\n",
    " \n",
    "\\begin{align*}\n",
    "&dx_t = -a x_t dt + \\sigma dW^1_t\\nonumber \\\\\n",
    "&dy_t = -b y_t dt + \\eta dW^2_t \\nonumber \\\\\n",
    "&\\left<dW^1_t dW^2_t\\right> = \\rho dt \n",
    "\\end{align*}\n",
    "\n",
    "We use the `TreeSwaptionEngine` to value the swaptions in the calibration step. "
   ]
  },
  {
   "cell_type": "code",
   "execution_count": 5,
   "metadata": {},
   "outputs": [],
   "source": [
    "model = ql.G2(term_structure);\n",
    "engine = ql.TreeSwaptionEngine(model, 25)\n",
    "swaptions = create_swaption_helpers(data, index, term_structure, engine)"
   ]
  },
  {
   "cell_type": "code",
   "execution_count": 6,
   "metadata": {},
   "outputs": [
    {
     "name": "stdout",
     "output_type": "stream",
     "text": [
      "G2++ parameters after calibration are:\n",
      "a = 0.04810, sigma = 0.00301, b = 0.03892, eta = 0.00472, rho = 0.03977 \n"
     ]
    }
   ],
   "source": [
    "optimization_method = ql.LevenbergMarquardt(1.0e-8,1.0e-8,1.0e-8)\n",
    "end_criteria = ql.EndCriteria(1000, 100, 1e-6, 1e-8, 1e-8)\n",
    "model.calibrate(swaptions, optimization_method, end_criteria)\n",
    "\n",
    "a, sigma, b, eta, rho = model.params()\n",
    "print(\"G2++ parameters after calibration are:\\na = %6.5f, sigma = %6.5f, b = %6.5f, eta = %6.5f, rho = %6.5f \" % (a, sigma, b, eta, rho))"
   ]
  },
  {
   "cell_type": "markdown",
   "metadata": {},
   "source": [
    "## Mapping from G2++ to 2-factor Hull-White parameters\n",
    "By \\cite{BA1} the mapping between G2++ model and 2-factor Hull-White model are as follow:\n",
    "\\begin{align*}\n",
    "\\alpha &= a \\\\\n",
    "\\beta &= b \\\\\n",
    "\\sigma_{1} &= \\sqrt{\\sigma^{2} + \\eta^{2} + 2\\rho\\sigma\\eta} \\\\\n",
    "\\sigma_{2} &= \\eta(a - b) \\\\\n",
    "\\bar{\\rho} &= \\frac{\\sigma\\rho + \\eta}{\\sigma_{1}} \\\\\n",
    "\\end{align*}"
   ]
  },
  {
   "cell_type": "code",
   "execution_count": 7,
   "metadata": {},
   "outputs": [],
   "source": [
    "def to_2FWH_params(a, sigma, b, eta, rho):\n",
    "    alpha = a\n",
    "    beta = b\n",
    "    sigma_1 = math.sqrt(sigma**2 + eta**2 + 2*rho*sigma*eta)\n",
    "    sigma_2 = eta*(a - b)\n",
    "    rho_bar = (sigma*rho + eta)/sigma_1\n",
    "    return alpha, beta, sigma_1, sigma_2, rho_bar\n",
    "test = to_2FWH_params(0.521159, 0.005779, 0.075631, 0.011573, -0.986876)\n",
    "assert(test == (0.521159, 0.075631, 0.005943560538348711, 0.005156095544000001, 0.9875971748124582))"
   ]
  },
  {
   "cell_type": "code",
   "execution_count": 8,
   "metadata": {},
   "outputs": [
    {
     "name": "stdout",
     "output_type": "stream",
     "text": [
      "Two-factor Hull-White parameters after calibration are:\n",
      "alpha = 0.04810, beta = 0.03892, sigma_1 = 0.00570, sigma_2 = 0.00004, rho_bar = 0.84939 \n"
     ]
    }
   ],
   "source": [
    "alpha, beta, sigma_1, sigma_2, rho_bar = to_2FWH_params(a, sigma, b, eta, rho)\n",
    "print(\"Two-factor Hull-White parameters after calibration are:\\nalpha = %6.5f, beta = %6.5f, sigma_1 = %6.5f, sigma_2 = %6.5f, rho_bar = %6.5f \" % (alpha, beta, sigma_1, sigma_2, rho_bar))"
   ]
  },
  {
   "cell_type": "code",
   "execution_count": 9,
   "metadata": {},
   "outputs": [
    {
     "name": "stdout",
     "output_type": "stream",
     "text": [
      "----------------------------------------------------------------------------------\n",
      "    Model Price    Market Price     Implied Vol      Market Vol       Rel Error\n",
      "----------------------------------------------------------------------------------\n",
      "        0.00871         0.00949         0.10531         0.11480        -0.08263\n",
      "        0.00968         0.01008         0.10634         0.11080        -0.04018\n",
      "        0.00867         0.00871         0.10652         0.10700        -0.00448\n",
      "        0.00653         0.00625         0.10665         0.10210         0.04442\n",
      "        0.00357         0.00334         0.10680         0.10000         0.06773\n",
      "----------------------------------------------------------------------------------\n",
      "Cumulative Error :         0.12288\n"
     ]
    }
   ],
   "source": [
    "calibration_report(swaptions, data)"
   ]
  }
 ],
 "metadata": {
  "kernelspec": {
   "display_name": "Python 3",
   "language": "python",
   "name": "python3"
  },
  "language_info": {
   "codemirror_mode": {
    "name": "ipython",
    "version": 3
   },
   "file_extension": ".py",
   "mimetype": "text/x-python",
   "name": "python",
   "nbconvert_exporter": "python",
   "pygments_lexer": "ipython3",
   "version": "3.7.4"
  }
 },
 "nbformat": 4,
 "nbformat_minor": 4
}
